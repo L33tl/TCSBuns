{
 "cells": [
  {
   "cell_type": "code",
   "outputs": [],
   "source": [
    "!pip install pymorphy2"
   ],
   "metadata": {
    "collapsed": false
   },
   "id": "317e91659ce3c462",
   "execution_count": null
  },
  {
   "cell_type": "code",
   "outputs": [
    {
     "name": "stdout",
     "output_type": "stream",
     "text": [
      "Collecting matplotlib\n",
      "  Obtaining dependency information for matplotlib from https://files.pythonhosted.org/packages/e4/43/fd3cd5989d6b592af1c2e4f37bf887f74b790f10b568b2497fe874a67fc7/matplotlib-3.8.3-cp310-cp310-win_amd64.whl.metadata\n",
      "  Downloading matplotlib-3.8.3-cp310-cp310-win_amd64.whl.metadata (5.9 kB)\n",
      "Collecting contourpy>=1.0.1 (from matplotlib)\n",
      "  Obtaining dependency information for contourpy>=1.0.1 from https://files.pythonhosted.org/packages/fd/7c/168f8343f33d861305e18c56901ef1bb675d3c7f977f435ec72751a71a54/contourpy-1.2.0-cp310-cp310-win_amd64.whl.metadata\n",
      "  Using cached contourpy-1.2.0-cp310-cp310-win_amd64.whl.metadata (5.8 kB)\n",
      "Collecting cycler>=0.10 (from matplotlib)\n",
      "  Obtaining dependency information for cycler>=0.10 from https://files.pythonhosted.org/packages/e7/05/c19819d5e3d95294a6f5947fb9b9629efb316b96de511b418c53d245aae6/cycler-0.12.1-py3-none-any.whl.metadata\n",
      "  Using cached cycler-0.12.1-py3-none-any.whl.metadata (3.8 kB)\n",
      "Collecting fonttools>=4.22.0 (from matplotlib)\n",
      "  Obtaining dependency information for fonttools>=4.22.0 from https://files.pythonhosted.org/packages/98/aa/482ce7af3fd572121a673d9af4b73901cb0ee29b676aaf576fd67856e9fe/fonttools-4.49.0-cp310-cp310-win_amd64.whl.metadata\n",
      "  Downloading fonttools-4.49.0-cp310-cp310-win_amd64.whl.metadata (162 kB)\n",
      "     ---------------------------------------- 0.0/162.3 kB ? eta -:--:--\n",
      "     -------------- ------------------------ 61.4/162.3 kB 1.7 MB/s eta 0:00:01\n",
      "     -------------------------------------- 162.3/162.3 kB 2.4 MB/s eta 0:00:00\n",
      "Collecting kiwisolver>=1.3.1 (from matplotlib)\n",
      "  Obtaining dependency information for kiwisolver>=1.3.1 from https://files.pythonhosted.org/packages/4a/a1/8a9c9be45c642fa12954855d8b3a02d9fd8551165a558835a19508fec2e6/kiwisolver-1.4.5-cp310-cp310-win_amd64.whl.metadata\n",
      "  Using cached kiwisolver-1.4.5-cp310-cp310-win_amd64.whl.metadata (6.5 kB)\n",
      "Requirement already satisfied: numpy<2,>=1.21 in d:\\projects\\tcsbuns\\.venv\\lib\\site-packages (from matplotlib) (1.26.4)\n",
      "Requirement already satisfied: packaging>=20.0 in d:\\projects\\tcsbuns\\.venv\\lib\\site-packages (from matplotlib) (23.2)\n",
      "Collecting pillow>=8 (from matplotlib)\n",
      "  Obtaining dependency information for pillow>=8 from https://files.pythonhosted.org/packages/ef/d8/f97270d25a003435e408e6d1e38d8eddc9b3e2c7b646719f4b3a5293685d/pillow-10.2.0-cp310-cp310-win_amd64.whl.metadata\n",
      "  Using cached pillow-10.2.0-cp310-cp310-win_amd64.whl.metadata (9.9 kB)\n",
      "Collecting pyparsing>=2.3.1 (from matplotlib)\n",
      "  Obtaining dependency information for pyparsing>=2.3.1 from https://files.pythonhosted.org/packages/39/92/8486ede85fcc088f1b3dba4ce92dd29d126fd96b0008ea213167940a2475/pyparsing-3.1.1-py3-none-any.whl.metadata\n",
      "  Using cached pyparsing-3.1.1-py3-none-any.whl.metadata (5.1 kB)\n",
      "Requirement already satisfied: python-dateutil>=2.7 in d:\\projects\\tcsbuns\\.venv\\lib\\site-packages (from matplotlib) (2.8.2)\n",
      "Requirement already satisfied: six>=1.5 in d:\\projects\\tcsbuns\\.venv\\lib\\site-packages (from python-dateutil>=2.7->matplotlib) (1.16.0)\n",
      "Downloading matplotlib-3.8.3-cp310-cp310-win_amd64.whl (7.6 MB)\n",
      "   ---------------------------------------- 0.0/7.6 MB ? eta -:--:--\n",
      "   - -------------------------------------- 0.2/7.6 MB 7.0 MB/s eta 0:00:02\n",
      "   --- ------------------------------------ 0.7/7.6 MB 7.4 MB/s eta 0:00:01\n",
      "   ------ --------------------------------- 1.3/7.6 MB 8.9 MB/s eta 0:00:01\n",
      "   --------- ------------------------------ 1.8/7.6 MB 9.7 MB/s eta 0:00:01\n",
      "   ------------ --------------------------- 2.5/7.6 MB 11.2 MB/s eta 0:00:01\n",
      "   ---------------- ----------------------- 3.2/7.6 MB 11.4 MB/s eta 0:00:01\n",
      "   -------------------- ------------------- 4.0/7.6 MB 12.2 MB/s eta 0:00:01\n",
      "   ----------------------- ---------------- 4.5/7.6 MB 12.4 MB/s eta 0:00:01\n",
      "   ----------------------- ---------------- 4.5/7.6 MB 10.6 MB/s eta 0:00:01\n",
      "   -------------------------- ------------- 5.0/7.6 MB 11.4 MB/s eta 0:00:01\n",
      "   --------------------------- ------------ 5.2/7.6 MB 10.8 MB/s eta 0:00:01\n",
      "   ----------------------------- ---------- 5.6/7.6 MB 9.9 MB/s eta 0:00:01\n",
      "   --------------------------------- ------ 6.5/7.6 MB 10.6 MB/s eta 0:00:01\n",
      "   ------------------------------------ --- 7.0/7.6 MB 10.6 MB/s eta 0:00:01\n",
      "   -------------------------------------- - 7.4/7.6 MB 10.5 MB/s eta 0:00:01\n",
      "   ---------------------------------------- 7.6/7.6 MB 10.6 MB/s eta 0:00:00\n",
      "Using cached contourpy-1.2.0-cp310-cp310-win_amd64.whl (186 kB)\n",
      "Using cached cycler-0.12.1-py3-none-any.whl (8.3 kB)\n",
      "Downloading fonttools-4.49.0-cp310-cp310-win_amd64.whl (2.2 MB)\n",
      "   ---------------------------------------- 0.0/2.2 MB ? eta -:--:--\n",
      "   ------- -------------------------------- 0.4/2.2 MB 12.9 MB/s eta 0:00:01\n",
      "   ----------- ---------------------------- 0.6/2.2 MB 13.4 MB/s eta 0:00:01\n",
      "   ---------------------- ----------------- 1.2/2.2 MB 9.7 MB/s eta 0:00:01\n",
      "   -------------------------------- ------- 1.8/2.2 MB 10.4 MB/s eta 0:00:01\n",
      "   ---------------------------------------- 2.2/2.2 MB 11.6 MB/s eta 0:00:00\n",
      "Using cached kiwisolver-1.4.5-cp310-cp310-win_amd64.whl (56 kB)\n",
      "Using cached pillow-10.2.0-cp310-cp310-win_amd64.whl (2.6 MB)\n",
      "Using cached pyparsing-3.1.1-py3-none-any.whl (103 kB)\n",
      "Installing collected packages: pyparsing, pillow, kiwisolver, fonttools, cycler, contourpy, matplotlib\n",
      "Successfully installed contourpy-1.2.0 cycler-0.12.1 fonttools-4.49.0 kiwisolver-1.4.5 matplotlib-3.8.3 pillow-10.2.0 pyparsing-3.1.1\n"
     ]
    },
    {
     "name": "stderr",
     "output_type": "stream",
     "text": [
      "\n",
      "[notice] A new release of pip is available: 23.2.1 -> 24.0\n",
      "[notice] To update, run: python.exe -m pip install --upgrade pip\n"
     ]
    }
   ],
   "source": [
    "!pip install matplotlib"
   ],
   "metadata": {
    "collapsed": false,
    "ExecuteTime": {
     "end_time": "2024-02-29T14:08:42.868164300Z",
     "start_time": "2024-02-29T14:08:36.548659400Z"
    }
   },
   "id": "286793d7e26870ed",
   "execution_count": 391
  },
  {
   "cell_type": "code",
   "outputs": [],
   "source": [
    "import json\n",
    "import re\n",
    "import pymorphy2\n",
    "import pandas as pd\n",
    "import matplotlib.pyplot as plt"
   ],
   "metadata": {
    "collapsed": true,
    "ExecuteTime": {
     "end_time": "2024-02-29T17:06:12.610075700Z",
     "start_time": "2024-02-29T17:06:10.886435100Z"
    }
   },
   "id": "initial_id",
   "execution_count": 1
  },
  {
   "cell_type": "code",
   "outputs": [],
   "source": [
    "EDU_DATA_PATH = '../data/case_2_reference_without_resume_sorted.json'\n",
    "edu_data = json.load(open(EDU_DATA_PATH, 'r', encoding='utf-8'))"
   ],
   "metadata": {
    "collapsed": false,
    "ExecuteTime": {
     "end_time": "2024-02-29T17:06:12.964541500Z",
     "start_time": "2024-02-29T17:06:12.937002500Z"
    }
   },
   "id": "27d72d4b96d8892",
   "execution_count": 2
  },
  {
   "cell_type": "code",
   "outputs": [],
   "source": [
    "edu_data = edu_data"
   ],
   "metadata": {
    "collapsed": false,
    "ExecuteTime": {
     "end_time": "2024-02-29T17:06:13.454438200Z",
     "start_time": "2024-02-29T17:06:13.390230Z"
    }
   },
   "id": "b7ac752af025d86e",
   "execution_count": 3
  },
  {
   "cell_type": "code",
   "outputs": [],
   "source": [
    "morph = pymorphy2.MorphAnalyzer()"
   ],
   "metadata": {
    "collapsed": false,
    "ExecuteTime": {
     "end_time": "2024-02-29T17:06:13.939170300Z",
     "start_time": "2024-02-29T17:06:13.752640500Z"
    }
   },
   "id": "d979cafec2f263ec",
   "execution_count": 4
  },
  {
   "cell_type": "code",
   "outputs": [],
   "source": [
    "def clear_string(string):\n",
    "    string = re.sub('[\\.\\,\\;\\(\\)\\—\\–\\\\\\/\\:\\•\\«\\»\\!\\?\\_\\n\\t\\\"“]', ' ', string).replace('-', '')\n",
    "    string = re.sub(' [-0-9]+ ', ' ', string)\n",
    "    string = re.sub('[ ]+', ' ', string)\n",
    "    # string = ' '.join(morph.parse(word)[0].normal_form for word in string)\n",
    "    return string.strip()\n"
   ],
   "metadata": {
    "collapsed": false,
    "ExecuteTime": {
     "end_time": "2024-02-29T17:09:00.802096300Z",
     "start_time": "2024-02-29T17:09:00.771871900Z"
    }
   },
   "id": "5a6e46b5e1f538bc",
   "execution_count": 25
  },
  {
   "cell_type": "code",
   "outputs": [],
   "source": [
    "def unite_person_data():\n",
    "    result = []\n",
    "    experience_keys = ('starts', 'ends', 'employer', 'city', 'position', 'description')\n",
    "    education_keys = ('year', 'organization', 'faculty', 'specialty', 'result', 'education_type', 'education_level')\n",
    "    vacancy = {}\n",
    "    row = edu_data\n",
    "    for key in row['vacancy']:\n",
    "        vacancy[f'vacancy_{key}'] = row['vacancy'][key]\n",
    "    person = {}\n",
    "    for person_info in row['resumes']:\n",
    "        for key in person_info:\n",
    "            person[f'person_{key}'] = person_info[key]\n",
    "        experience = ''\n",
    "        for experience_item in person_info.get('experienceItem', {}):\n",
    "            experience += ' '.join([str(experience_item[key]) for key in experience_keys])\n",
    "        education = ''\n",
    "        for education_item in person_info.get('educationItem', {}):\n",
    "            education += ' '.join([str(education_item[key]) for key in education_keys])\n",
    "        person['person_experienceItem'] = clear_string(experience)\n",
    "        person['person_educationItem'] = clear_string(education)\n",
    "        result.append(vacancy | person)\n",
    "    return result"
   ],
   "metadata": {
    "collapsed": false,
    "ExecuteTime": {
     "end_time": "2024-02-29T17:09:01.128838100Z",
     "start_time": "2024-02-29T17:09:01.058292900Z"
    }
   },
   "id": "874a12d673897d6",
   "execution_count": 26
  },
  {
   "cell_type": "code",
   "outputs": [
    {
     "name": "stdout",
     "output_type": "stream",
     "text": [
      "{'vacancy_uuid': '8b9c8d16-c7f0-38a2-b80c-d94030c15a6f', 'vacancy_name': 'Java разработчик', 'vacancy_keywords': 'Kafka, Java, RxJava, Hystrix, MongoDB ', 'vacancy_description': 'Требования: 4+ года опыта работы с Java 8+ или Kotlin 4+ года опыта работы с Spring и 2+ год работы с Spring Boot. Опыт работы с системами на микросервисной архитектуре (Spring Cloud, Kubernetes, Openshift или аналоги). Опыт работы с Docker. Опыт работы с 3-мя любыми из следующих технологий NoSQL (MongoDB, Elasticsearch, аналоги) SQL (PostgreSQL, Oracle, аналоги) Брокеры сообщений (Kafka, RabbitMQ, аналоги) Reactive programming (RxJava, Project Reactor) Cache (Redis, Hazelcast). Настройка CI/CD (GitlabCI, Jenkins, аналоги). Настройка средств мониторинга (Zabbix, Prometheus). Настройка средств логирования (Graylog, ELK). Будет хорошо, если кандидат: Знает все технологии из первого пункта; Участвовал в проработке архитектуры и может объяснить все решения на своем проекте; Готов драйвить техническое развитие систем, а не просто следовать текущим стандартам; Имеет дружеские отношения с DevOps, пайплайны, контейнеризация и оркестрация, Linux; Понимает микросервисную архитектуры и устройство распределенных систем; Участвовал в подборе и онбординге новых сотрудников; Умеет и хочет писать технические статьи. Развиваться и развивать коллег/комьюнити. Проводить как разовые тренинги, так и планировать долгие обучения. Что предстоит делать: Использовать самый современный технологический стэк для создания FinTech решений; Разрабатывать приложения, которые масштабируются на все дистанционные каналы банка (интернет-банк, мобильные приложения, платёжные сервисы и многое другое); Взаимодействовать с различными командами разработки, Data Science, поддержки и другими (поэтому необходимы хорошие навыки коммуникации или желание их развивать); Вносить свой вклад в развитие архитектуры, делать новое и оценивать старое. ', 'vacancy_comment': None, 'person_uuid': '0dfe8e63-d7a3-3fe4-b9d7-1b8122158f33', 'person_first_name': 'Клим', 'person_last_name': 'Тетерина', 'person_birth_date': '1991-05-23', 'person_country': 'Россия', 'person_city': 'Москва', 'person_about': 'Личные качества: ответственность, лидерство, гибкость, коммуникабельность, уравновешенность, решительность, находчивость, оптимизм, стратегическое мышление, способность к самостоятельному принятию решений. Дополнительные сведения Семейное положение: женат. Дети: есть. Личный автомобиль: есть. Возможность командировок: есть. Водительское удостоверение: есть.', 'person_key_skills': 'Java Core, Spring Framework, Hibernate ORM, PostgreSQL, Oracle Pl/SQL, Kotlin', 'person_experienceItem': '20221001 None МКК АсбоцементАлмаз Кашира Team Lead Senior Java Developer Руководил командой разработчиков в том числе бэкенд разработчиков фронт разработчика дизайнера бизнесаналитика и системных аналитика Разработка новых и поддержка около микросервисов с использованием Spring Boot В работе использовал RabbitMQ Docker PostgreSQL Kafka Redis Elasticsearch Java Kotlin Keycloak Gradle Maven Feign Client Контролировал весь цикл разработки От бизнес требований до релиза Участвовал в обсуждении и принятии архитектурных решений о взаимодействии систем Участвовал в построении инфраструктуры настраивал CI CD логирование метрики и т д 20220901 МКК ТекстильITОбл Павловский Посад Главный инженер по разработке Создание микросервисов с нуля и до релиза Интеграция микросервисов со смежными системами по протоколу взаимодействия Rest Взаимодействие со смежными командами Взаимодействие с функциональным тестированием нагрузочным тестированием Полная поддержка релизного цикла от создания и заведения модуля и взаимодействия с безопасностью до пси и нагрузочного тестирования Разработка и поддержка кода Стек технологий Java Spring Spring Boot Spring Webflux Reactor Kafka Maven Git Hibernate Unit тестирование Integration тестирование SonarQube Jenkins Опыт работы с SQL Oracle PosgreSQL Фронт Владение HTML CSS Базовые понимания JavaScript Инфраструктура Общее понимание работы kubernetes контейнерезации Swagger Логирование Grafana Алерты Участвовал в собеседованиях и принимал решения о найме кандидатов Использовал Jira Confluence 20210801 ПАО СантехТяж Чехов Javaразработчик Разработка и поддержка кода Стек технологий Java Kotlin Spring Framework Hibernate Владение HTML CSS Js Опыт работы с SQL Oracle PosgreSQL Использовал средство сборки Maven Использовал Jenkins Git Jira Confluence 20200601 ПАО МобайлВекторРечТрест Одинцово Javaразработчик Java разработка20190901 МФО ТелекомУралТяжСнос Серебряные Пруды Автотестировщик Написание автотестов на java', 'person_languageItems': ['Русский', 'Английский'], 'person_educationItem': '2021 Московский энергетический институт Национальный исследовательский университет Москва Инэи Бизнесинформатика Основное Высшее'}\n"
     ]
    }
   ],
   "source": [
    "arr = unite_person_data()\n",
    "print(arr[0])"
   ],
   "metadata": {
    "collapsed": false,
    "ExecuteTime": {
     "end_time": "2024-02-29T17:09:02.104456Z",
     "start_time": "2024-02-29T17:09:01.965918700Z"
    }
   },
   "id": "31cc21488e1c314",
   "execution_count": 27
  },
  {
   "cell_type": "code",
   "outputs": [
    {
     "name": "stdout",
     "output_type": "stream",
     "text": [
      "113\n"
     ]
    }
   ],
   "source": [
    "print(len(arr))"
   ],
   "metadata": {
    "collapsed": false,
    "ExecuteTime": {
     "end_time": "2024-02-29T17:09:03.003349500Z",
     "start_time": "2024-02-29T17:09:02.986319200Z"
    }
   },
   "id": "aaa743871521ead",
   "execution_count": 28
  },
  {
   "cell_type": "code",
   "outputs": [
    {
     "data": {
      "text/plain": "dict_keys(['vacancy_uuid', 'vacancy_name', 'vacancy_keywords', 'vacancy_description', 'vacancy_comment', 'person_uuid', 'person_first_name', 'person_last_name', 'person_birth_date', 'person_country', 'person_city', 'person_about', 'person_key_skills', 'person_experienceItem', 'person_languageItems', 'person_educationItem'])"
     },
     "execution_count": 29,
     "metadata": {},
     "output_type": "execute_result"
    }
   ],
   "source": [
    "arr[0].keys()"
   ],
   "metadata": {
    "collapsed": false,
    "ExecuteTime": {
     "end_time": "2024-02-29T17:09:05.792486400Z",
     "start_time": "2024-02-29T17:09:05.750128900Z"
    }
   },
   "id": "f94101aaeaa05b72",
   "execution_count": 29
  },
  {
   "cell_type": "code",
   "outputs": [],
   "source": [
    "key_skills = set()"
   ],
   "metadata": {
    "collapsed": false,
    "ExecuteTime": {
     "end_time": "2024-02-29T17:09:06.166952800Z",
     "start_time": "2024-02-29T17:09:06.126194700Z"
    }
   },
   "id": "dfbc546acf26904",
   "execution_count": 30
  },
  {
   "cell_type": "code",
   "outputs": [
    {
     "data": {
      "text/plain": "['разработка решений по интеграции',\n 'реактивное программирование',\n 'руководство коллективом',\n 'серверное программирование',\n 'системы идентификации и аутентификации',\n 'субд',\n 'умение работать в команде',\n 'управление разработкой',\n 'целеустремленность',\n 'шаблоны проектирования']"
     },
     "execution_count": 33,
     "metadata": {},
     "output_type": "execute_result"
    }
   ],
   "source": [
    "for row in arr:\n",
    "    key_skills |= set([clear_string(word).lower().replace(', ', '').strip() for word in\n",
    "                       (row.get('person_key_skills') or '').split(', ')])\n",
    "sorted(key_skills)[-10:]"
   ],
   "metadata": {
    "collapsed": false,
    "ExecuteTime": {
     "end_time": "2024-02-29T17:09:15.399370300Z",
     "start_time": "2024-02-29T17:09:15.343169300Z"
    }
   },
   "id": "627b9c18d54b6f22",
   "execution_count": 33
  },
  {
   "cell_type": "code",
   "outputs": [
    {
     "data": {
      "text/plain": "5142"
     },
     "execution_count": 34,
     "metadata": {},
     "output_type": "execute_result"
    }
   ],
   "source": [
    "open('key_skills_exam.txt', 'w', encoding='utf-8').write('\\n'.join(sorted(key_skills)[1:]))"
   ],
   "metadata": {
    "collapsed": false,
    "ExecuteTime": {
     "end_time": "2024-02-29T17:09:22.239962Z",
     "start_time": "2024-02-29T17:09:22.159209200Z"
    }
   },
   "id": "38ecbf3c3df50299",
   "execution_count": 34
  },
  {
   "cell_type": "code",
   "outputs": [
    {
     "data": {
      "text/plain": "427"
     },
     "execution_count": 35,
     "metadata": {},
     "output_type": "execute_result"
    }
   ],
   "source": [
    "len(key_skills)"
   ],
   "metadata": {
    "collapsed": false,
    "ExecuteTime": {
     "end_time": "2024-02-29T17:09:23.800211900Z",
     "start_time": "2024-02-29T17:09:23.759007900Z"
    }
   },
   "id": "e339eabc3ee5d70d",
   "execution_count": 35
  },
  {
   "cell_type": "code",
   "outputs": [
    {
     "data": {
      "text/plain": "0      Java Core, Spring Framework, Hibernate ORM, Po...\n1      Java 8-17, Java SE, Java EE, Spring Framework ...\n2      Java 8 и 11, osgi, postgresql, testng, mockito...\n3      Java EE, Spring Framework, Intellij IDEA, Рабо...\n4                                                   None\n                             ...                        \n108                                                 None\n109    Java Servlets, Hibernate ORM, SOAP, REST, Spri...\n110    Ответственность, Коммуникабельность, Аналитиче...\n111    Linux, Apache Maven, Java Collections, Java EE...\n112                        Kotlin, Java, Project Reactor\nName: person_key_skills, Length: 113, dtype: object"
     },
     "execution_count": 36,
     "metadata": {},
     "output_type": "execute_result"
    }
   ],
   "source": [
    "category = 'person_key_skills'\n",
    "df = pd.DataFrame(arr)\n",
    "df[category]"
   ],
   "metadata": {
    "collapsed": false,
    "ExecuteTime": {
     "end_time": "2024-02-29T17:09:32.020730600Z",
     "start_time": "2024-02-29T17:09:31.982132200Z"
    }
   },
   "id": "9cba0225f400a0aa",
   "execution_count": 36
  },
  {
   "cell_type": "code",
   "outputs": [
    {
     "data": {
      "text/plain": "0      Java Core, Spring Framework, Hibernate ORM, Po...\n1      Java 8-17, Java SE, Java EE, Spring Framework ...\n2      Java 8 и 11, osgi, postgresql, testng, mockito...\n3      Java EE, Spring Framework, Intellij IDEA, Рабо...\n4                                                   None\n                             ...                        \n108                                                 None\n109    Java Servlets, Hibernate ORM, SOAP, REST, Spri...\n110    Ответственность, Коммуникабельность, Аналитиче...\n111    Linux, Apache Maven, Java Collections, Java EE...\n112                        Kotlin, Java, Project Reactor\nName: person_key_skills, Length: 113, dtype: object"
     },
     "execution_count": 37,
     "metadata": {},
     "output_type": "execute_result"
    }
   ],
   "source": [
    "key_skills = list(key_skills)\n",
    "binary_data = df.to_dict('records')\n",
    "for row in binary_data:\n",
    "    for skill in key_skills:\n",
    "        row[skill] = skill in (row[category] or '').lower()\n",
    "binary_df = pd.DataFrame(binary_data)\n",
    "binary_df.pop(category)"
   ],
   "metadata": {
    "collapsed": false,
    "ExecuteTime": {
     "end_time": "2024-02-29T17:09:39.393068800Z",
     "start_time": "2024-02-29T17:09:39.254305500Z"
    }
   },
   "id": "30bdf8266b8dd188",
   "execution_count": 37
  },
  {
   "cell_type": "code",
   "outputs": [
    {
     "data": {
      "text/plain": "23"
     },
     "execution_count": 38,
     "metadata": {},
     "output_type": "execute_result"
    }
   ],
   "source": [
    "len(binary_df[binary_df['ооп'] == True])"
   ],
   "metadata": {
    "collapsed": false,
    "ExecuteTime": {
     "end_time": "2024-02-29T17:09:42.168825300Z",
     "start_time": "2024-02-29T17:09:42.097401900Z"
    }
   },
   "id": "9d5f52c0b9a660a",
   "execution_count": 38
  },
  {
   "cell_type": "code",
   "outputs": [
    {
     "data": {
      "text/plain": "0      False\n1      False\n2      False\n3       True\n4      False\n       ...  \n108    False\n109    False\n110    False\n111     True\n112    False\nName: ооп, Length: 113, dtype: bool"
     },
     "execution_count": 39,
     "metadata": {},
     "output_type": "execute_result"
    }
   ],
   "source": [
    "binary_df['ооп']"
   ],
   "metadata": {
    "collapsed": false,
    "ExecuteTime": {
     "end_time": "2024-02-29T17:09:44.524499300Z",
     "start_time": "2024-02-29T17:09:44.478324Z"
    }
   },
   "id": "d19e9e02c5309bca",
   "execution_count": 39
  },
  {
   "cell_type": "code",
   "outputs": [],
   "source": [
    "skill_frequencies = {}\n",
    "for skill in key_skills:\n",
    "    skill_frequencies[skill] = len(binary_df[binary_df[skill]])\n"
   ],
   "metadata": {
    "collapsed": false,
    "ExecuteTime": {
     "end_time": "2024-02-29T17:09:49.998432900Z",
     "start_time": "2024-02-29T17:09:49.801531500Z"
    }
   },
   "id": "4cc75ec1aae7fbb5",
   "execution_count": 40
  },
  {
   "cell_type": "code",
   "outputs": [
    {
     "data": {
      "text/plain": "Index(['vacancy_uuid', 'vacancy_name', 'vacancy_keywords',\n       'vacancy_description', 'vacancy_comment', 'person_uuid',\n       'person_first_name', 'person_last_name', 'person_birth_date',\n       'person_country',\n       ...\n       'разработка по', 'gitlab', 'apache tomcat', 'postman', 'jasperreports',\n       'git java spring framework apache maven spring boot spring data gradle postgresql sql junit',\n       'java script', 'spring boot 2', 'ejb', 'solr'],\n      dtype='object', length=443)"
     },
     "execution_count": 41,
     "metadata": {},
     "output_type": "execute_result"
    }
   ],
   "source": [
    "binary_df.columns"
   ],
   "metadata": {
    "collapsed": false,
    "ExecuteTime": {
     "end_time": "2024-02-29T17:09:50.854781300Z",
     "start_time": "2024-02-29T17:09:50.781644700Z"
    }
   },
   "id": "ee3402424b826a72",
   "execution_count": 41
  },
  {
   "cell_type": "code",
   "outputs": [
    {
     "ename": "TypeError",
     "evalue": "no numeric data to plot",
     "output_type": "error",
     "traceback": [
      "\u001B[1;31m---------------------------------------------------------------------------\u001B[0m",
      "\u001B[1;31mTypeError\u001B[0m                                 Traceback (most recent call last)",
      "Cell \u001B[1;32mIn[43], line 1\u001B[0m\n\u001B[1;32m----> 1\u001B[0m \u001B[43mbinary_df\u001B[49m\u001B[38;5;241;43m.\u001B[39;49m\u001B[43mplot\u001B[49m\u001B[43m(\u001B[49m\u001B[43mkind\u001B[49m\u001B[38;5;241;43m=\u001B[39;49m\u001B[38;5;124;43m'\u001B[39;49m\u001B[38;5;124;43mdensity\u001B[39;49m\u001B[38;5;124;43m'\u001B[39;49m\u001B[43m)\u001B[49m\n\u001B[0;32m      2\u001B[0m binary_df\u001B[38;5;241m.\u001B[39mcolumns\n",
      "File \u001B[1;32mD:\\Projects\\TCSBuns\\.venv\\lib\\site-packages\\pandas\\plotting\\_core.py:1030\u001B[0m, in \u001B[0;36mPlotAccessor.__call__\u001B[1;34m(self, *args, **kwargs)\u001B[0m\n\u001B[0;32m   1027\u001B[0m             label_name \u001B[38;5;241m=\u001B[39m label_kw \u001B[38;5;129;01mor\u001B[39;00m data\u001B[38;5;241m.\u001B[39mcolumns\n\u001B[0;32m   1028\u001B[0m             data\u001B[38;5;241m.\u001B[39mcolumns \u001B[38;5;241m=\u001B[39m label_name\n\u001B[1;32m-> 1030\u001B[0m \u001B[38;5;28;01mreturn\u001B[39;00m plot_backend\u001B[38;5;241m.\u001B[39mplot(data, kind\u001B[38;5;241m=\u001B[39mkind, \u001B[38;5;241m*\u001B[39m\u001B[38;5;241m*\u001B[39mkwargs)\n",
      "File \u001B[1;32mD:\\Projects\\TCSBuns\\.venv\\lib\\site-packages\\pandas\\plotting\\_matplotlib\\__init__.py:71\u001B[0m, in \u001B[0;36mplot\u001B[1;34m(data, kind, **kwargs)\u001B[0m\n\u001B[0;32m     69\u001B[0m         kwargs[\u001B[38;5;124m\"\u001B[39m\u001B[38;5;124max\u001B[39m\u001B[38;5;124m\"\u001B[39m] \u001B[38;5;241m=\u001B[39m \u001B[38;5;28mgetattr\u001B[39m(ax, \u001B[38;5;124m\"\u001B[39m\u001B[38;5;124mleft_ax\u001B[39m\u001B[38;5;124m\"\u001B[39m, ax)\n\u001B[0;32m     70\u001B[0m plot_obj \u001B[38;5;241m=\u001B[39m PLOT_CLASSES[kind](data, \u001B[38;5;241m*\u001B[39m\u001B[38;5;241m*\u001B[39mkwargs)\n\u001B[1;32m---> 71\u001B[0m \u001B[43mplot_obj\u001B[49m\u001B[38;5;241;43m.\u001B[39;49m\u001B[43mgenerate\u001B[49m\u001B[43m(\u001B[49m\u001B[43m)\u001B[49m\n\u001B[0;32m     72\u001B[0m plot_obj\u001B[38;5;241m.\u001B[39mdraw()\n\u001B[0;32m     73\u001B[0m \u001B[38;5;28;01mreturn\u001B[39;00m plot_obj\u001B[38;5;241m.\u001B[39mresult\n",
      "File \u001B[1;32mD:\\Projects\\TCSBuns\\.venv\\lib\\site-packages\\pandas\\plotting\\_matplotlib\\core.py:499\u001B[0m, in \u001B[0;36mMPLPlot.generate\u001B[1;34m(self)\u001B[0m\n\u001B[0;32m    497\u001B[0m \u001B[38;5;129m@final\u001B[39m\n\u001B[0;32m    498\u001B[0m \u001B[38;5;28;01mdef\u001B[39;00m \u001B[38;5;21mgenerate\u001B[39m(\u001B[38;5;28mself\u001B[39m) \u001B[38;5;241m-\u001B[39m\u001B[38;5;241m>\u001B[39m \u001B[38;5;28;01mNone\u001B[39;00m:\n\u001B[1;32m--> 499\u001B[0m     \u001B[38;5;28;43mself\u001B[39;49m\u001B[38;5;241;43m.\u001B[39;49m\u001B[43m_compute_plot_data\u001B[49m\u001B[43m(\u001B[49m\u001B[43m)\u001B[49m\n\u001B[0;32m    500\u001B[0m     fig \u001B[38;5;241m=\u001B[39m \u001B[38;5;28mself\u001B[39m\u001B[38;5;241m.\u001B[39mfig\n\u001B[0;32m    501\u001B[0m     \u001B[38;5;28mself\u001B[39m\u001B[38;5;241m.\u001B[39m_make_plot(fig)\n",
      "File \u001B[1;32mD:\\Projects\\TCSBuns\\.venv\\lib\\site-packages\\pandas\\plotting\\_matplotlib\\core.py:698\u001B[0m, in \u001B[0;36mMPLPlot._compute_plot_data\u001B[1;34m(self)\u001B[0m\n\u001B[0;32m    696\u001B[0m \u001B[38;5;66;03m# no non-numeric frames or series allowed\u001B[39;00m\n\u001B[0;32m    697\u001B[0m \u001B[38;5;28;01mif\u001B[39;00m is_empty:\n\u001B[1;32m--> 698\u001B[0m     \u001B[38;5;28;01mraise\u001B[39;00m \u001B[38;5;167;01mTypeError\u001B[39;00m(\u001B[38;5;124m\"\u001B[39m\u001B[38;5;124mno numeric data to plot\u001B[39m\u001B[38;5;124m\"\u001B[39m)\n\u001B[0;32m    700\u001B[0m \u001B[38;5;28mself\u001B[39m\u001B[38;5;241m.\u001B[39mdata \u001B[38;5;241m=\u001B[39m numeric_data\u001B[38;5;241m.\u001B[39mapply(\u001B[38;5;28mtype\u001B[39m(\u001B[38;5;28mself\u001B[39m)\u001B[38;5;241m.\u001B[39m_convert_to_ndarray)\n",
      "\u001B[1;31mTypeError\u001B[0m: no numeric data to plot"
     ]
    }
   ],
   "source": [
    "binary_df.plot(kind='density')\n",
    "binary_df.columns"
   ],
   "metadata": {
    "collapsed": false,
    "ExecuteTime": {
     "end_time": "2024-02-29T17:09:58.510854900Z",
     "start_time": "2024-02-29T17:09:58.421158500Z"
    }
   },
   "id": "69c106ca70b8c8e8",
   "execution_count": 43
  },
  {
   "cell_type": "code",
   "outputs": [],
   "source": [
    "def update_key(unique_key):\n",
    "    skills_to_plot[unique_key] = sum(skills_to_plot[key] for key in skills_to_plot if unique_key in key)\n",
    "    [skills_to_plot.pop(key) for key in tuple(skills_to_plot.keys()) if unique_key in key and unique_key != key]"
   ],
   "metadata": {
    "collapsed": false,
    "ExecuteTime": {
     "end_time": "2024-02-29T17:10:06.373387900Z",
     "start_time": "2024-02-29T17:10:06.308688300Z"
    }
   },
   "id": "e9727360dc625177",
   "execution_count": 45
  },
  {
   "cell_type": "code",
   "outputs": [
    {
     "name": "stdout",
     "output_type": "stream",
     "text": [
      "0\n",
      "0\n",
      "0\n",
      "0\n",
      "0\n",
      "0\n",
      "0\n",
      "0\n",
      "0\n",
      "0\n",
      "0\n",
      "0\n",
      "0\n",
      "0\n",
      "0\n",
      "0\n",
      "0\n",
      "0\n",
      "0\n",
      "0\n",
      "0\n",
      "0\n",
      "0\n",
      "0\n",
      "0\n",
      "0\n",
      "0\n",
      "0\n",
      "0\n",
      "0\n",
      "0\n",
      "0\n",
      "0\n",
      "0\n",
      "0\n",
      "0\n",
      "0\n",
      "0\n",
      "0\n",
      "0\n",
      "0\n",
      "0\n",
      "0\n",
      "0\n",
      "0\n",
      "0\n",
      "0\n",
      "0\n",
      "0\n",
      "0\n",
      "0\n",
      "0\n",
      "0\n",
      "1\n",
      "1\n",
      "1\n",
      "1\n",
      "1\n",
      "1\n",
      "1\n",
      "1\n",
      "1\n",
      "1\n",
      "1\n",
      "1\n",
      "1\n",
      "1\n",
      "1\n",
      "1\n",
      "1\n",
      "1\n",
      "1\n",
      "1\n",
      "1\n",
      "1\n",
      "1\n",
      "1\n",
      "1\n",
      "1\n",
      "1\n",
      "1\n",
      "1\n",
      "1\n",
      "1\n",
      "1\n",
      "1\n",
      "1\n",
      "1\n",
      "1\n",
      "1\n",
      "1\n",
      "1\n",
      "1\n",
      "1\n",
      "1\n",
      "1\n",
      "1\n",
      "1\n",
      "1\n",
      "1\n",
      "1\n",
      "1\n",
      "1\n",
      "1\n",
      "1\n",
      "1\n",
      "1\n",
      "1\n",
      "1\n",
      "1\n",
      "1\n",
      "1\n",
      "1\n",
      "1\n",
      "1\n",
      "1\n",
      "1\n",
      "1\n",
      "1\n",
      "1\n",
      "1\n",
      "1\n",
      "1\n",
      "1\n",
      "1\n",
      "1\n",
      "1\n",
      "1\n",
      "1\n",
      "1\n",
      "1\n",
      "1\n",
      "1\n",
      "1\n",
      "1\n",
      "1\n",
      "1\n",
      "1\n",
      "1\n",
      "1\n",
      "1\n",
      "1\n",
      "1\n",
      "1\n",
      "1\n",
      "1\n",
      "1\n",
      "1\n",
      "1\n",
      "1\n",
      "1\n",
      "1\n",
      "1\n",
      "1\n",
      "1\n",
      "1\n",
      "1\n",
      "1\n",
      "1\n",
      "1\n",
      "1\n",
      "1\n",
      "1\n",
      "1\n",
      "1\n",
      "1\n",
      "1\n",
      "1\n",
      "1\n",
      "1\n",
      "1\n",
      "1\n",
      "1\n",
      "1\n",
      "1\n",
      "1\n",
      "1\n",
      "1\n",
      "1\n",
      "1\n",
      "1\n",
      "1\n",
      "1\n",
      "1\n",
      "1\n",
      "1\n",
      "1\n",
      "1\n",
      "1\n",
      "1\n",
      "1\n",
      "1\n",
      "1\n",
      "1\n",
      "1\n",
      "1\n",
      "1\n",
      "1\n",
      "1\n",
      "1\n",
      "1\n",
      "1\n",
      "1\n",
      "1\n",
      "1\n",
      "1\n",
      "1\n",
      "1\n",
      "1\n",
      "1\n",
      "1\n",
      "1\n",
      "1\n",
      "1\n",
      "1\n",
      "1\n",
      "1\n",
      "1\n",
      "1\n",
      "1\n",
      "1\n",
      "1\n",
      "1\n",
      "1\n",
      "1\n",
      "1\n",
      "1\n",
      "1\n",
      "1\n",
      "1\n",
      "1\n",
      "1\n",
      "2\n",
      "2\n",
      "2\n",
      "2\n",
      "2\n",
      "2\n",
      "2\n",
      "2\n",
      "2\n",
      "2\n",
      "2\n",
      "2\n",
      "2\n",
      "2\n",
      "2\n",
      "2\n",
      "2\n",
      "2\n",
      "2\n",
      "2\n",
      "2\n",
      "2\n",
      "2\n",
      "2\n",
      "2\n",
      "2\n",
      "2\n",
      "2\n",
      "2\n",
      "2\n",
      "2\n",
      "2\n",
      "2\n",
      "2\n",
      "2\n",
      "2\n",
      "2\n",
      "2\n",
      "2\n",
      "2\n",
      "2\n",
      "2\n",
      "2\n",
      "2\n",
      "2\n",
      "2\n",
      "2\n",
      "2\n",
      "2\n",
      "2\n",
      "2\n",
      "2\n",
      "2\n",
      "3\n",
      "3\n",
      "3\n",
      "3\n",
      "3\n",
      "3\n",
      "3\n",
      "3\n",
      "3\n",
      "3\n",
      "3\n",
      "3\n",
      "3\n",
      "3\n",
      "3\n",
      "3\n",
      "3\n",
      "3\n",
      "3\n",
      "3\n",
      "3\n",
      "3\n",
      "3\n",
      "3\n",
      "3\n",
      "3\n",
      "3\n",
      "3\n",
      "3\n",
      "3\n",
      "3\n",
      "4\n",
      "4\n",
      "4\n",
      "4\n",
      "4\n",
      "4\n",
      "4\n",
      "4\n",
      "4\n",
      "4\n",
      "4\n",
      "4\n",
      "4\n",
      "4\n",
      "4\n",
      "4\n",
      "4\n",
      "4\n",
      "4\n",
      "5\n",
      "5\n",
      "5\n",
      "5\n",
      "5\n",
      "5\n",
      "6\n",
      "6\n",
      "7\n",
      "7\n",
      "7\n",
      "7\n",
      "7\n",
      "8\n",
      "8\n",
      "8\n",
      "8\n",
      "8\n",
      "8\n",
      "8\n",
      "8\n",
      "9\n",
      "9\n",
      "9\n",
      "10\n",
      "10\n",
      "10\n",
      "10\n",
      "11\n",
      "11\n",
      "11\n",
      "12\n",
      "12\n",
      "12\n",
      "12\n",
      "12\n",
      "13\n",
      "14\n",
      "14\n",
      "14\n",
      "14\n",
      "15\n",
      "16\n",
      "16\n",
      "16\n",
      "16\n",
      "16\n",
      "16\n",
      "17\n",
      "17\n",
      "17\n",
      "18\n",
      "18\n",
      "19\n",
      "20\n",
      "20\n",
      "20\n",
      "21\n",
      "23\n",
      "23\n",
      "23\n",
      "23\n",
      "24\n",
      "24\n",
      "24\n",
      "25\n",
      "26\n",
      "27\n",
      "29\n",
      "31\n",
      "32\n",
      "34\n",
      "36\n",
      "39\n",
      "41\n",
      "43\n",
      "50\n",
      "54\n",
      "56\n",
      "56\n",
      "56\n",
      "56\n",
      "62\n",
      "62\n",
      "63\n",
      "72\n",
      "74\n",
      "78\n",
      "90\n",
      "95\n",
      "101\n"
     ]
    }
   ],
   "source": [
    "skills_to_plot = {}\n",
    "for skill in sorted(skill_frequencies.items(), key=lambda x: x[1])[:-1]:\n",
    "    skills_to_plot[skill[0]] = skill[1]\n",
    "    key = skill[0]\n",
    "    if key in skill[0]:\n",
    "        print(skills_to_plot.get(skill[0]))\n",
    "        update_key(key)\n"
   ],
   "metadata": {
    "collapsed": false,
    "ExecuteTime": {
     "end_time": "2024-02-29T17:10:58.055087600Z",
     "start_time": "2024-02-29T17:10:57.981425700Z"
    }
   },
   "id": "bcb6d40a9a278965",
   "execution_count": 47
  },
  {
   "cell_type": "code",
   "outputs": [
    {
     "data": {
      "text/plain": "[('jni jna для интеграции с низкоуровневым кодом', 0),\n ('clickteam fusion 5', 0),\n ('ci cd', 0),\n ('vert x', 0),\n ('mtls ssl', 0),\n ('базовые знания многопоточности threads', 0),\n ('ignite', 1),\n ('открытый к новой информации', 1),\n ('argocd', 1),\n ('qt', 1)]"
     },
     "execution_count": 53,
     "metadata": {},
     "output_type": "execute_result"
    }
   ],
   "source": [
    "skills_to_plot_1 = skills_to_plot.copy()\n",
    "to_remove = ('r', 'c', 'ирование', 'atlassian', 'di', 'bi', 'boot', 'mq')\n",
    "to_remove = []\n",
    "[skills_to_plot_1.pop(key) for key in to_remove]\n",
    "sorted(skills_to_plot_1.items(), key=lambda x: x[1])[:10]"
   ],
   "metadata": {
    "collapsed": false,
    "ExecuteTime": {
     "end_time": "2024-02-29T17:12:04.176919100Z",
     "start_time": "2024-02-29T17:12:04.139489100Z"
    }
   },
   "id": "1d4d96e755bfe9aa",
   "execution_count": 53
  },
  {
   "cell_type": "code",
   "outputs": [],
   "source": [],
   "metadata": {
    "collapsed": false,
    "ExecuteTime": {
     "end_time": "2024-02-29T17:12:05.248424Z",
     "start_time": "2024-02-29T17:12:05.194299200Z"
    }
   },
   "id": "e9e8e461453a27ff",
   "execution_count": 53
  },
  {
   "cell_type": "code",
   "outputs": [
    {
     "data": {
      "text/plain": "<Figure size 640x480 with 1 Axes>",
      "image/png": "[encoded data removed]"
     },
     "metadata": {},
     "output_type": "display_data"
    },
    {
     "name": "stdout",
     "output_type": "stream",
     "text": [
      "113\n"
     ]
    }
   ],
   "source": [
    "to_plot = sorted(skills_to_plot_1.items(), key=lambda x: x[1])[-10:][::-1]\n",
    "x = [v[0] for v in to_plot]\n",
    "y = [v[1] * .55 / len(df) for v in to_plot]\n",
    "# plt.title\n",
    "plt.grid()\n",
    "plt.ylim(0, 1)\n",
    "plt.bar(x, y, color='#ece118', label='Частота владения инструментом в %')\n",
    "plt.legend()\n",
    "plt.xticks(rotation=45, ha='right')\n",
    "plt.xlabel('Инструмент')\n",
    "plt.ylabel('Частота')\n",
    "plt.savefig('bar.png', format='png', bbox_inches='tight')\n",
    "plt.show()\n",
    "print(len(df))"
   ],
   "metadata": {
    "collapsed": false,
    "ExecuteTime": {
     "end_time": "2024-02-29T17:27:39.154903200Z",
     "start_time": "2024-02-29T17:27:38.394499200Z"
    }
   },
   "id": "229df6602d652329",
   "execution_count": 86
  },
  {
   "cell_type": "code",
   "outputs": [
    {
     "ename": "NameError",
     "evalue": "name 'top_ind' is not defined",
     "output_type": "error",
     "traceback": [
      "\u001B[1;31m---------------------------------------------------------------------------\u001B[0m",
      "\u001B[1;31mNameError\u001B[0m                                 Traceback (most recent call last)",
      "Cell \u001B[1;32mIn[87], line 1\u001B[0m\n\u001B[1;32m----> 1\u001B[0m \u001B[38;5;28;01mfor\u001B[39;00m i \u001B[38;5;129;01min\u001B[39;00m \u001B[43mtop_ind\u001B[49m[:\u001B[38;5;241m10\u001B[39m]:\n\u001B[0;32m      2\u001B[0m   \u001B[38;5;28mprint\u001B[39m(df[\u001B[38;5;124m\"\u001B[39m\u001B[38;5;124mid_resume\u001B[39m\u001B[38;5;124m\"\u001B[39m][i])\n\u001B[0;32m      3\u001B[0m \u001B[38;5;28;01mwith\u001B[39;00m \u001B[38;5;28mopen\u001B[39m(\u001B[38;5;124m\"\u001B[39m\u001B[38;5;124mans.txt\u001B[39m\u001B[38;5;124m\"\u001B[39m, \u001B[38;5;124m\"\u001B[39m\u001B[38;5;124mw\u001B[39m\u001B[38;5;124m\"\u001B[39m,encoding\u001B[38;5;241m=\u001B[39m\u001B[38;5;124m\"\u001B[39m\u001B[38;5;124mutf-8\u001B[39m\u001B[38;5;124m\"\u001B[39m) \u001B[38;5;28;01mas\u001B[39;00m f:\n",
      "\u001B[1;31mNameError\u001B[0m: name 'top_ind' is not defined"
     ]
    }
   ],
   "source": [
    "for i in top_ind[:10]:\n",
    "  print(df[\"id_resume\"][i])\n",
    "with open(\"ans.txt\", \"w\",encoding=\"utf-8\") as f:\n",
    "  for i in top_ind[:10]:\n",
    "    f.write(str(df[\"id_resume\"][i])+\"\\n\")\n"
   ],
   "metadata": {
    "collapsed": false,
    "ExecuteTime": {
     "end_time": "2024-02-29T17:28:50.639941700Z",
     "start_time": "2024-02-29T17:28:50.568244300Z"
    }
   },
   "id": "17dc30c9ebd71761",
   "execution_count": 87
  },
  {
   "cell_type": "code",
   "outputs": [],
   "source": [],
   "metadata": {
    "collapsed": false
   },
   "id": "d7761f00f5c17f13"
  }
 ],
 "metadata": {
  "kernelspec": {
   "display_name": "Python 3",
   "language": "python",
   "name": "python3"
  },
  "language_info": {
   "codemirror_mode": {
    "name": "ipython",
    "version": 2
   },
   "file_extension": ".py",
   "mimetype": "text/x-python",
   "name": "python",
   "nbconvert_exporter": "python",
   "pygments_lexer": "ipython2",
   "version": "2.7.6"
  }
 },
 "nbformat": 4,
 "nbformat_minor": 5
}
